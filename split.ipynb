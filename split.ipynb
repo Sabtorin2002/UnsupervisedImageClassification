{
 "cells": [
  {
   "cell_type": "code",
   "execution_count": 2,
   "metadata": {},
   "outputs": [
    {
     "name": "stdout",
     "output_type": "stream",
     "text": [
      "Dataset split into 80% train and 20% test successfully!\n"
     ]
    }
   ],
   "source": [
    "import os\n",
    "import shutil\n",
    "from sklearn.model_selection import train_test_split\n",
    "\n",
    "# Path to the dataset\n",
    "dataset_dir = \"dataset/DATA\"\n",
    "output_dir = \"dataset/datasetsplitted\"  # Define where the split folders will go\n",
    "\n",
    "# Create output directories\n",
    "for split in ['train', 'test']:\n",
    "    os.makedirs(os.path.join(output_dir, split), exist_ok=True)\n",
    "\n",
    "# Iterate through each car folder\n",
    "for car_model in os.listdir(dataset_dir):\n",
    "    car_model_path = os.path.join(dataset_dir, car_model)\n",
    "    \n",
    "    if os.path.isdir(car_model_path):  # Ensure it's a directory\n",
    "        images = os.listdir(car_model_path)\n",
    "        \n",
    "        # Split into train (80%) and test (20%)\n",
    "        train_imgs, test_imgs = train_test_split(images, test_size=0.2, random_state=42)\n",
    "        \n",
    "        # Create subfolders for the car model in train/test\n",
    "        for split, split_imgs in zip(['train', 'test'], [train_imgs, test_imgs]):\n",
    "            split_dir = os.path.join(output_dir, split, car_model)\n",
    "            os.makedirs(split_dir, exist_ok=True)\n",
    "            \n",
    "            # Copy images\n",
    "            for img in split_imgs:\n",
    "                shutil.copy(os.path.join(car_model_path, img), os.path.join(split_dir, img))\n",
    "\n",
    "print(\"Dataset split into 80% train and 20% test successfully!\")\n"
   ]
  }
 ],
 "metadata": {
  "kernelspec": {
   "display_name": "Python 3",
   "language": "python",
   "name": "python3"
  },
  "language_info": {
   "codemirror_mode": {
    "name": "ipython",
    "version": 3
   },
   "file_extension": ".py",
   "mimetype": "text/x-python",
   "name": "python",
   "nbconvert_exporter": "python",
   "pygments_lexer": "ipython3",
   "version": "3.12.7"
  }
 },
 "nbformat": 4,
 "nbformat_minor": 2
}
